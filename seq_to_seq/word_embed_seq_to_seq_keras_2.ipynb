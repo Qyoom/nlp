{
 "cells": [
  {
   "cell_type": "markdown",
   "metadata": {},
   "source": [
    "# An introduction to sequence-to-sequence learning in Keras\n",
    "\n",
    "#### Word embedding based version following Chollet tutorial\n",
    "\n",
    "https://blog.keras.io/a-ten-minute-introduction-to-sequence-to-sequence-learning-in-keras.html\n",
    "\n",
    "https://github.com/keras-team/keras/blob/master/examples/lstm_seq2seq.py\n",
    "\n",
    "Note to self: See my local version for working notes."
   ]
  },
  {
   "cell_type": "markdown",
   "metadata": {},
   "source": [
    "This code is based upon Chollet's character-based seq2seq tutorial. It has a section at the end which provides guidance and code for making a word embedding version.\n",
    "\n",
    "I've also referenced a couple of Brownlee's tutorials.\n",
    "\n",
    "[How to Use Word Embedding Layers for Deep Learning with Keras](https://machinelearningmastery.com/use-word-embedding-layers-deep-learning-keras/)\n",
    "\n",
    "Also his tut on text preparation:\n",
    "\n",
    "[How to Prepare Text Data for Deep Learning with Keras](https://machinelearningmastery.com/prepare-text-data-deep-learning-keras/)"
   ]
  },
  {
   "cell_type": "markdown",
   "metadata": {},
   "source": [
    "From the Chollet tutorial post:\n",
    "\n",
    ">#### Data download\n",
    "\n",
    ">- English to French sentence pairs: \n",
    "http://www.manythings.org/anki/fra-eng.zip\n",
    "\n",
    ">- Lots of neat sentence pairs datasets can be found at:\n",
    "http://www.manythings.org/anki/"
   ]
  },
  {
   "cell_type": "markdown",
   "metadata": {},
   "source": [
    ">#### References\n",
    ">- Sequence to Sequence Learning with Neural Networks\n",
    "    https://arxiv.org/abs/1409.3215\n",
    ">- Learning Phrase Representations using\n",
    "    RNN Encoder-Decoder for Statistical Machine Translation\n",
    "    https://arxiv.org/abs/1406.1078"
   ]
  },
  {
   "cell_type": "code",
   "execution_count": 1,
   "metadata": {},
   "outputs": [
    {
     "name": "stderr",
     "output_type": "stream",
     "text": [
      "Using TensorFlow backend.\n"
     ]
    }
   ],
   "source": [
    "# Imports\n",
    "from keras.models import Model\n",
    "from keras.layers import Input, LSTM, Dense, Embedding\n",
    "from keras.preprocessing.text import text_to_word_sequence, Tokenizer\n",
    "from keras.preprocessing.sequence import pad_sequences\n",
    "\n",
    "import numpy as np"
   ]
  },
  {
   "cell_type": "code",
   "execution_count": 2,
   "metadata": {},
   "outputs": [],
   "source": [
    "# Model configuration\n",
    "batch_size = 64  # Batch size for training.\n",
    "epochs = 100  # Number of epochs to train for.\n",
    "latent_dim = 256  # Latent dimensionality of the encoding space.\n",
    "num_samples = 10000  # Number of samples to train on.\n",
    "# Path to the data txt file on disk.\n",
    "data_path = 'data/fra-eng/fra.txt'"
   ]
  },
  {
   "cell_type": "markdown",
   "metadata": {},
   "source": [
    "#### Vectorize the data (word embedding and one-hot encoding)"
   ]
  },
  {
   "cell_type": "code",
   "execution_count": 5,
   "metadata": {},
   "outputs": [],
   "source": [
    "# Text preparation\n",
    "# For source and target texts:\n",
    "# Split phrases as word arrays, filter for puncuation.\n",
    "# Collect unique vocabularies.\n",
    "\n",
    "# diagnostics. Using Tokenizer for actual\n",
    "input_texts = []\n",
    "target_texts = []\n",
    "\n",
    "with open(data_path, 'r', encoding='utf-8') as f: # assures file will close.\n",
    "    lines = f.read().split('\\n') # split doc into lines at newline.\n",
    "for line in lines[: min(num_samples, len(lines) - 1)]: # parse no more than num_samples lines.\n",
    "    input_text, target_text = line.split('\\t') # separate source and target phrases \n",
    "    # Remove some observed unicode from the French\n",
    "    input_text = input_text.lower().replace(u\"\\xa0\", u\" \").replace(u\"\\u202f\", u\" \").replace('.', ' .').replace('?', ' ?').replace('!', ' !') # add space for splitting to retain punc.\n",
    "    target_text = target_text.lower().replace(u\"\\xa0\", u\" \").replace(u\"\\u202f\", u\" \").replace('.', ' .').replace('?', ' ?').replace('!', ' !')\n",
    "    # collect\n",
    "    input_texts.append(input_text)\n",
    "    target_texts.append(target_text)                   \n",
    "    \n",
    "# Tokenizer integer sequences\n",
    "filters = '\"#$%&()*+,-/:;<=>@[\\]^_`{|}~' # removed/keeping [.!?]\n",
    "\n",
    "input_text_tokr = Tokenizer(lower=True, filters=filters)\n",
    "input_text_tokr.fit_on_texts(input_texts)\n",
    "input_texts_seq = input_text_tokr.texts_to_sequences(input_texts)\n",
    "max_encoder_seq_length = max([len(seq) for seq in input_texts_seq])\n",
    "encoder_input_data = pad_sequences(\n",
    "    input_texts_seq, max_encoder_seq_length, padding='post')\n",
    "\n",
    "target_text_tokr = Tokenizer(lower=True, filters=filters)\n",
    "target_text_tokr.fit_on_texts(target_texts)\n",
    "target_texts_seq = target_text_tokr.texts_to_sequences(target_texts)\n",
    "max_decoder_seq_length = max([len(seq) for seq in target_texts_seq])\n",
    "decoder_input_data = pad_sequences(\n",
    "    target_texts_seq, max_decoder_seq_length, padding='post') \n",
    "\n",
    "# vocabulary sizes\n",
    "num_encoder_tokens = len(input_text_tokr.word_index.keys()) + 1\n",
    "num_decoder_tokens = len(target_text_tokr.word_index.keys()) + 1\n"
   ]
  },
  {
   "cell_type": "code",
   "execution_count": 6,
   "metadata": {},
   "outputs": [],
   "source": [
    "# one-hot decoder_target_data initialization\n",
    "decoder_target_data = np.zeros(\n",
    "    (len(input_texts), max_decoder_seq_length, num_decoder_tokens),\n",
    "    dtype='float32')"
   ]
  },
  {
   "cell_type": "markdown",
   "metadata": {},
   "source": [
    "The `decoder_target_data` parameter args in the following cell may need experimenting if performance is not good."
   ]
  },
  {
   "cell_type": "code",
   "execution_count": 7,
   "metadata": {},
   "outputs": [],
   "source": [
    "# Populate decoder_target_data with\n",
    "for i, seq in enumerate(target_texts_seq):\n",
    "    for t, idx in enumerate(seq):\n",
    "        if t > 0:\n",
    "            # decoder_target_data will be ahead by one timestep\n",
    "            # Q: What about start and stop tokens? How were they used in char-based version? \n",
    "            #decoder_target_data[i, t - 1, idx-1] = 1. # Q: Why is Tokenizer.word_index lookup dictionary indexed starting at 1 instead of 0?\n",
    "            decoder_target_data[i, t - 1, idx] = 1.\n",
    "            #decoder_target_data[i, t, idx-1] = 1. # I think this is wrong! Should just be idx"
   ]
  },
  {
   "cell_type": "code",
   "execution_count": 226,
   "metadata": {},
   "outputs": [],
   "source": [
    "#help(target_text_tokr.word_index)"
   ]
  },
  {
   "cell_type": "code",
   "execution_count": 227,
   "metadata": {},
   "outputs": [],
   "source": [
    "# diagnostic\n",
    "#help(target_text_tokr.texts_to_sequences)\n",
    "#help(pad_sequences)"
   ]
  },
  {
   "cell_type": "code",
   "execution_count": 228,
   "metadata": {},
   "outputs": [],
   "source": [
    "# Diagnostic\n",
    "#target_texts_seq\n",
    "#print(type(input_texts_seq))\n",
    "#print(type(input_texts_seq[0]))\n",
    "#input_texts_seq"
   ]
  },
  {
   "cell_type": "code",
   "execution_count": 229,
   "metadata": {},
   "outputs": [],
   "source": [
    "# diagnostic\n",
    "#print(encoder_input_data)"
   ]
  },
  {
   "cell_type": "code",
   "execution_count": 8,
   "metadata": {},
   "outputs": [
    {
     "name": "stdout",
     "output_type": "stream",
     "text": [
      "num_encoder_tokens: 2165\n",
      "num_decoder_tokens: 4253\n",
      "max_decoder_seq_length: 11\n"
     ]
    }
   ],
   "source": [
    "# diagnostic\n",
    "print('num_encoder_tokens:', num_encoder_tokens)\n",
    "print('num_decoder_tokens:', num_decoder_tokens)\n",
    "print('max_decoder_seq_length:', max_decoder_seq_length)"
   ]
  },
  {
   "cell_type": "code",
   "execution_count": 231,
   "metadata": {},
   "outputs": [],
   "source": [
    "# diagnostic\n",
    "\n",
    "# A dictionary of words and their counts.\n",
    "#print('input_text_tokr.word_counts')\n",
    "#print(input_text_tokr.word_counts)\n",
    "#print()\n",
    "\n",
    "# Number of documents processed.\n",
    "#print('input_text_tokr.document_count')\n",
    "#print(input_text_tokr.document_count)\n",
    "#print()\n",
    "\n",
    "# A dictionary of words and their uniquely assigned integers.\n",
    "# This is what I want for embedding. I need to convert each phrase using this dict.\n",
    "# And I need to create a reverse dict.\n",
    "#print('input_text_tokr.word_index')\n",
    "#print(input_text_tokr.word_index)\n",
    "#print()\n",
    "\n",
    "#print('target_text_tokr.word_index')\n",
    "#print(target_text_tokr.word_index)\n",
    "#print()\n",
    "\n",
    "#print(input_text_tokr.filters)\n",
    "\n",
    "# An integer count of the total number of documents that were used to fit the Tokenizer. \n",
    "#print('input_text_tokr.word_docs')\n",
    "#print(input_text_tokr.word_docs)\n"
   ]
  },
  {
   "cell_type": "code",
   "execution_count": 232,
   "metadata": {},
   "outputs": [],
   "source": [
    "# diagnostic\n",
    "# Tokenizer word_index dictionary\n",
    "#input_token_index"
   ]
  },
  {
   "cell_type": "code",
   "execution_count": 233,
   "metadata": {},
   "outputs": [],
   "source": [
    "# diagnostic\n",
    "# Tokenizer word_index dictionary\n",
    "#target_token_index"
   ]
  },
  {
   "cell_type": "code",
   "execution_count": 234,
   "metadata": {},
   "outputs": [],
   "source": [
    "#input_texts[-30:-1]"
   ]
  },
  {
   "cell_type": "code",
   "execution_count": 235,
   "metadata": {},
   "outputs": [],
   "source": [
    "#input_texts_seq[-30:-1]"
   ]
  },
  {
   "cell_type": "code",
   "execution_count": 236,
   "metadata": {},
   "outputs": [],
   "source": [
    "#target_texts"
   ]
  },
  {
   "cell_type": "code",
   "execution_count": 237,
   "metadata": {},
   "outputs": [],
   "source": [
    "#target_texts_seq"
   ]
  },
  {
   "cell_type": "markdown",
   "metadata": {},
   "source": [
    "### Encoder\n",
    "\n",
    "I'm going by code that is the blog, but it's not in a py file that runs successfully like the character based version. If I have trouble with it refer back the the char based version."
   ]
  },
  {
   "cell_type": "code",
   "execution_count": 9,
   "metadata": {},
   "outputs": [],
   "source": [
    "# Define an input sequence and process it.\n",
    "encoder_inputs = Input(shape=(None,)) \n",
    "x_e = Embedding(num_encoder_tokens, latent_dim)(encoder_inputs)\n",
    "x_e, state_h, state_c = LSTM(latent_dim, return_state=True)(x_e)\n",
    "encoder_states = [state_h, state_c] # The decoder will work with these.\n"
   ]
  },
  {
   "cell_type": "markdown",
   "metadata": {},
   "source": [
    "### Decoder"
   ]
  },
  {
   "cell_type": "code",
   "execution_count": 10,
   "metadata": {},
   "outputs": [],
   "source": [
    "# Set up the decoder, using `encoder_states` as initial state.\n",
    "decoder_inputs = Input(shape=(None,)) \n",
    "x_d = Embedding(num_decoder_tokens, latent_dim)(decoder_inputs)\n",
    "x_d = LSTM(latent_dim, return_sequences=True)(x_d, initial_state=encoder_states)\n",
    "decoder_outputs = Dense(num_decoder_tokens, activation='softmax')(x_d)\n"
   ]
  },
  {
   "cell_type": "markdown",
   "metadata": {},
   "source": [
    "### Model"
   ]
  },
  {
   "cell_type": "code",
   "execution_count": 11,
   "metadata": {},
   "outputs": [],
   "source": [
    "# Define the model that will turn\n",
    "# `encoder_input_data` & `decoder_input_data` into `decoder_target_data`\n",
    "model = Model([encoder_inputs, decoder_inputs], decoder_outputs)"
   ]
  },
  {
   "cell_type": "code",
   "execution_count": null,
   "metadata": {},
   "outputs": [],
   "source": [
    "# Compile and run training\n",
    "model.compile(optimizer='rmsprop', loss='categorical_crossentropy')\n",
    "# Note that `decoder_target_data` needs to be one-hot encoded,\n",
    "# rather than sequences of integers like `decoder_input_data`!\n",
    "# RW: Does decoder_target_data still need to be ahead of \n",
    "# decoder_input_data by one timestep? He doesn't say so, but I will \n",
    "# assume that the pattern is still required. \n",
    "model.fit([encoder_input_data, decoder_input_data], decoder_target_data,\n",
    "          batch_size=batch_size,\n",
    "          epochs=epochs,\n",
    "          validation_split=0.2)\n"
   ]
  },
  {
   "cell_type": "code",
   "execution_count": null,
   "metadata": {},
   "outputs": [],
   "source": [
    "# Save model\n",
    "model.save('s2s.h5')"
   ]
  },
  {
   "cell_type": "markdown",
   "metadata": {},
   "source": [
    "#### Everything below is out of sync"
   ]
  },
  {
   "cell_type": "raw",
   "metadata": {},
   "source": [
    "#### Inference model\n",
    "\n",
    ">To decode a test sentence, we will repeatedly:\n",
    "\n",
    ">    - (1) Encode the input sentence and retrieve the initial decoder state\n",
    ">    - (2) Run one step of the decoder with this initial state and a \"start of sequence\" token as target. The output will be the next target character.\n",
    ">    - (3) Append the target character predicted and repeat."
   ]
  },
  {
   "cell_type": "raw",
   "metadata": {},
   "source": [
    "#### Word-embedded notes\n",
    "\n",
    "The following cell looks pretty generic. I'll assume it can work as is."
   ]
  },
  {
   "cell_type": "raw",
   "metadata": {},
   "source": [
    "# Define sampling models\n",
    "# RW: Q: Subsequent to training is encoder_inputs now populated? I don't think so.\n",
    "encoder_model = Model(encoder_inputs, encoder_states)\n",
    "decoder_state_input_h = Input(shape=(latent_dim,))\n",
    "decoder_state_input_c = Input(shape=(latent_dim,))\n",
    "decoder_states_inputs = [decoder_state_input_h, decoder_state_input_c]\n",
    "decoder_outputs, state_h, state_c = decoder_lstm(\n",
    "    decoder_inputs, initial_state=decoder_states_inputs)\n",
    "# RW: Q: When/where/how do these newly declared decoder_states_inputs get populated? \n",
    "decoder_states = [state_h, state_c]\n",
    "decoder_outputs = decoder_dense(decoder_outputs)\n",
    "decoder_model = Model(\n",
    "    [decoder_inputs] + decoder_states_inputs, # concatination?\n",
    "    [decoder_outputs] + decoder_states)\n"
   ]
  },
  {
   "cell_type": "raw",
   "metadata": {},
   "source": [
    "Ok, the following cell is just reversing the word_index dict. But where am I using one? I think just for the decoder_target_data one-hot encoding."
   ]
  },
  {
   "cell_type": "raw",
   "metadata": {},
   "source": [
    "# Reverse-lookup token index to decode sequences back to something readable.\n",
    "reverse_input_tok_index = dict(\n",
    "    (i, tok) for tok, i in input_token_index.items())\n",
    "reverse_target_tok_index = dict(\n",
    "    (i, tok) for tok, i in target_token_index.items())"
   ]
  },
  {
   "cell_type": "raw",
   "metadata": {},
   "source": [
    "Interestingly, the following is the first (only?) custom function definition in the tut.\n",
    "\n",
    "This is pretty obscure. Needs close, repeated study."
   ]
  },
  {
   "cell_type": "raw",
   "metadata": {},
   "source": [
    "def decode_sequence(input_seq):\n",
    "    # Encode the input as state vectors.\n",
    "    states_value = encoder_model.predict(input_seq)\n",
    "    \n",
    "    # Generate empty target sequence of length 1.\n",
    "    target_seq = np.zeros((1, 1, num_decoder_tokens))\n",
    "    \n",
    "    # Populate the first character of target sequence with the start character.\n",
    "    target_seq[0, 0, target_token_index['\\t']] = 1. # tab is the start char.\n",
    "    \n",
    "    # Sampling loop for a batch of sequences\n",
    "    # (to simplify, here we assume a batch of size 1).\n",
    "    stop_condition = False\n",
    "    decoded_sentence = ''\n",
    "    while not stop_condition:\n",
    "        output_tokens, h, c = decoder_model.predict(\n",
    "            [target_seq] + states_value)\n",
    "        \n",
    "        # Sample a token\n",
    "        sampled_token_index = np.argmax(output_tokens[0, -1, :])\n",
    "        sampled_char = reverse_target_char_index[sampled_token_index]\n",
    "        decoded_sentence += sampled_char\n",
    "        \n",
    "        # Exit condition: either hit max length\n",
    "        # or find stop character.\n",
    "        if (sampled_char == '\\n' or\n",
    "           len(decoded_sentence) > max_decoder_seq_length):\n",
    "            stop_condition = True\n",
    "            \n",
    "        # Update the target sequence (of length 1).\n",
    "        target_seq = np.zeros((1, 1, num_decoder_tokens))\n",
    "        target_seq[0, 0, sampled_token_index] = 1.\n",
    "        \n",
    "        # Update states\n",
    "        states_value = [h, c]\n",
    "        \n",
    "    return decoded_sentence "
   ]
  },
  {
   "cell_type": "raw",
   "metadata": {},
   "source": [
    "for seq_index in range(100):\n",
    "    # Take one sequence (part of the training set)\n",
    "    # for trying out decoding.\n",
    "    input_seq = encoder_input_data[seq_index: seq_index + 1]\n",
    "    decoded_sentence = decode_sequence(input_seq)\n",
    "    print('-')\n",
    "    print('Input sentence:', input_texts[seq_index])\n",
    "    print('Decoded sentence:', decoded_sentence)"
   ]
  },
  {
   "cell_type": "code",
   "execution_count": null,
   "metadata": {},
   "outputs": [],
   "source": []
  }
 ],
 "metadata": {
  "kernelspec": {
   "display_name": "Python 3",
   "language": "python",
   "name": "python3"
  },
  "language_info": {
   "codemirror_mode": {
    "name": "ipython",
    "version": 3
   },
   "file_extension": ".py",
   "mimetype": "text/x-python",
   "name": "python",
   "nbconvert_exporter": "python",
   "pygments_lexer": "ipython3",
   "version": "3.6.3"
  }
 },
 "nbformat": 4,
 "nbformat_minor": 2
}
